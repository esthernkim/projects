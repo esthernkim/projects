{
 "cells": [
  {
   "cell_type": "markdown",
   "id": "8797a112",
   "metadata": {},
   "source": [
    "# Project: Detecting Fraud in Job Postings"
   ]
  },
  {
   "cell_type": "markdown",
   "id": "6dddce86",
   "metadata": {},
   "source": [
    "Data Source: https://www.kaggle.com/datasets/shivamb/real-or-fake-fake-jobposting-prediction"
   ]
  },
  {
   "cell_type": "markdown",
   "id": "056e8e90",
   "metadata": {},
   "source": [
    "### Problem Statement:\n",
    "* A company has requested a predictive model that can detect whether job postings are legitimate or fraudulent. Concerns have been raised from recruiters, advertisers, and subscription-based members about fraudulent job postings that undermine the reputation of the company’s services.\n",
    "\n",
    "### Key Metric:\n",
    "* Recall of the minority class (minimizing false negatives)\n",
    "\n",
    "### Methods:\n",
    "\n",
    "Oversampling minority class:\n",
    "* The classes for the target variable were not only very imbalanced (fraudulent job postings <5% of the data), but there were very few records for fraudulent job postings in total (856). Synthetic oversampling of the minority class was completed via SMOTE. \n",
    "\n",
    "Naive Bayes:\n",
    "* Complement Naive Bayes was chosen for its relative strength in both text classification and imbalanced datasets. The optimal smoothing parameter was tuned via GridSearchCV.\n",
    "\n",
    "Natural language processing:\n",
    "* Numeric features were created from the five text columns using NLTK. Additional natural language processing was considered but ultimately rejected; further tokenization/lemmatization/stemming to standardize the text could inadvertently compromise features from the text that actually predict fraud (ex. inflectional irregularities may be more frequent in fraudulent job postings, etc.) and understanding the meaning of the text was not required for the problem statement. Text columns were combined and transformed using the TFIDF Vectorizer (with accents and stop words removed), chosen because frequency is likely an important factor for fraud detection. \n",
    "\n",
    "### Model Performance:\n",
    "* Key metric (recall of the minority class): 87%\n",
    "* Overall accuracy: 94%\n"
   ]
  },
  {
   "cell_type": "code",
   "execution_count": 4,
   "id": "d6c72d3f",
   "metadata": {},
   "outputs": [],
   "source": [
    "#load modules\n",
    "import pandas as pd\n",
    "import numpy as np\n",
    "import matplotlib.pyplot as plt\n",
    "import seaborn as sns\n",
    "from nltk import sent_tokenize\n",
    "from sklearn.model_selection import train_test_split, GridSearchCV\n",
    "from sklearn.compose import ColumnTransformer\n",
    "from sklearn.preprocessing import OneHotEncoder, MinMaxScaler\n",
    "from sklearn.feature_extraction.text import TfidfVectorizer\n",
    "from sklearn.feature_selection import SelectFromModel\n",
    "from sklearn.linear_model import LogisticRegression\n",
    "from imblearn.pipeline import Pipeline\n",
    "from imblearn.over_sampling import SMOTE\n",
    "from sklearn.naive_bayes import ComplementNB\n",
    "from sklearn.metrics import recall_score, classification_report, make_scorer, confusion_matrix, roc_curve, roc_auc_score"
   ]
  },
  {
   "cell_type": "markdown",
   "id": "e1cd292a",
   "metadata": {},
   "source": [
    "## Data Wrangling and Exploratory Data Analysis"
   ]
  },
  {
   "cell_type": "code",
   "execution_count": 5,
   "id": "3c4e6b2c",
   "metadata": {},
   "outputs": [],
   "source": [
    "#load data\n",
    "data = pd.read_csv('job_postings.csv', index_col=0)"
   ]
  },
  {
   "cell_type": "code",
   "execution_count": 6,
   "id": "4d11f6c6",
   "metadata": {},
   "outputs": [
    {
     "data": {
      "text/html": [
       "<div>\n",
       "<style scoped>\n",
       "    .dataframe tbody tr th:only-of-type {\n",
       "        vertical-align: middle;\n",
       "    }\n",
       "\n",
       "    .dataframe tbody tr th {\n",
       "        vertical-align: top;\n",
       "    }\n",
       "\n",
       "    .dataframe thead th {\n",
       "        text-align: right;\n",
       "    }\n",
       "</style>\n",
       "<table border=\"1\" class=\"dataframe\">\n",
       "  <thead>\n",
       "    <tr style=\"text-align: right;\">\n",
       "      <th></th>\n",
       "      <th>title</th>\n",
       "      <th>location</th>\n",
       "      <th>department</th>\n",
       "      <th>salary_range</th>\n",
       "      <th>company_profile</th>\n",
       "      <th>description</th>\n",
       "      <th>requirements</th>\n",
       "      <th>benefits</th>\n",
       "      <th>telecommuting</th>\n",
       "      <th>has_company_logo</th>\n",
       "      <th>has_questions</th>\n",
       "      <th>employment_type</th>\n",
       "      <th>required_experience</th>\n",
       "      <th>required_education</th>\n",
       "      <th>industry</th>\n",
       "      <th>function</th>\n",
       "      <th>fraudulent</th>\n",
       "    </tr>\n",
       "    <tr>\n",
       "      <th>job_id</th>\n",
       "      <th></th>\n",
       "      <th></th>\n",
       "      <th></th>\n",
       "      <th></th>\n",
       "      <th></th>\n",
       "      <th></th>\n",
       "      <th></th>\n",
       "      <th></th>\n",
       "      <th></th>\n",
       "      <th></th>\n",
       "      <th></th>\n",
       "      <th></th>\n",
       "      <th></th>\n",
       "      <th></th>\n",
       "      <th></th>\n",
       "      <th></th>\n",
       "      <th></th>\n",
       "    </tr>\n",
       "  </thead>\n",
       "  <tbody>\n",
       "    <tr>\n",
       "      <th>1</th>\n",
       "      <td>Marketing Intern</td>\n",
       "      <td>US, NY, New York</td>\n",
       "      <td>Marketing</td>\n",
       "      <td>NaN</td>\n",
       "      <td>We're Food52, and we've created a groundbreaki...</td>\n",
       "      <td>Food52, a fast-growing, James Beard Award-winn...</td>\n",
       "      <td>Experience with content management systems a m...</td>\n",
       "      <td>NaN</td>\n",
       "      <td>0</td>\n",
       "      <td>1</td>\n",
       "      <td>0</td>\n",
       "      <td>Other</td>\n",
       "      <td>Internship</td>\n",
       "      <td>NaN</td>\n",
       "      <td>NaN</td>\n",
       "      <td>Marketing</td>\n",
       "      <td>0</td>\n",
       "    </tr>\n",
       "    <tr>\n",
       "      <th>2</th>\n",
       "      <td>Customer Service - Cloud Video Production</td>\n",
       "      <td>NZ, , Auckland</td>\n",
       "      <td>Success</td>\n",
       "      <td>NaN</td>\n",
       "      <td>90 Seconds, the worlds Cloud Video Production ...</td>\n",
       "      <td>Organised - Focused - Vibrant - Awesome!Do you...</td>\n",
       "      <td>What we expect from you:Your key responsibilit...</td>\n",
       "      <td>What you will get from usThrough being part of...</td>\n",
       "      <td>0</td>\n",
       "      <td>1</td>\n",
       "      <td>0</td>\n",
       "      <td>Full-time</td>\n",
       "      <td>Not Applicable</td>\n",
       "      <td>NaN</td>\n",
       "      <td>Marketing and Advertising</td>\n",
       "      <td>Customer Service</td>\n",
       "      <td>0</td>\n",
       "    </tr>\n",
       "    <tr>\n",
       "      <th>3</th>\n",
       "      <td>Commissioning Machinery Assistant (CMA)</td>\n",
       "      <td>US, IA, Wever</td>\n",
       "      <td>NaN</td>\n",
       "      <td>NaN</td>\n",
       "      <td>Valor Services provides Workforce Solutions th...</td>\n",
       "      <td>Our client, located in Houston, is actively se...</td>\n",
       "      <td>Implement pre-commissioning and commissioning ...</td>\n",
       "      <td>NaN</td>\n",
       "      <td>0</td>\n",
       "      <td>1</td>\n",
       "      <td>0</td>\n",
       "      <td>NaN</td>\n",
       "      <td>NaN</td>\n",
       "      <td>NaN</td>\n",
       "      <td>NaN</td>\n",
       "      <td>NaN</td>\n",
       "      <td>0</td>\n",
       "    </tr>\n",
       "    <tr>\n",
       "      <th>4</th>\n",
       "      <td>Account Executive - Washington DC</td>\n",
       "      <td>US, DC, Washington</td>\n",
       "      <td>Sales</td>\n",
       "      <td>NaN</td>\n",
       "      <td>Our passion for improving quality of life thro...</td>\n",
       "      <td>THE COMPANY: ESRI – Environmental Systems Rese...</td>\n",
       "      <td>EDUCATION: Bachelor’s or Master’s in GIS, busi...</td>\n",
       "      <td>Our culture is anything but corporate—we have ...</td>\n",
       "      <td>0</td>\n",
       "      <td>1</td>\n",
       "      <td>0</td>\n",
       "      <td>Full-time</td>\n",
       "      <td>Mid-Senior level</td>\n",
       "      <td>Bachelor's Degree</td>\n",
       "      <td>Computer Software</td>\n",
       "      <td>Sales</td>\n",
       "      <td>0</td>\n",
       "    </tr>\n",
       "    <tr>\n",
       "      <th>5</th>\n",
       "      <td>Bill Review Manager</td>\n",
       "      <td>US, FL, Fort Worth</td>\n",
       "      <td>NaN</td>\n",
       "      <td>NaN</td>\n",
       "      <td>SpotSource Solutions LLC is a Global Human Cap...</td>\n",
       "      <td>JOB TITLE: Itemization Review ManagerLOCATION:...</td>\n",
       "      <td>QUALIFICATIONS:RN license in the State of Texa...</td>\n",
       "      <td>Full Benefits Offered</td>\n",
       "      <td>0</td>\n",
       "      <td>1</td>\n",
       "      <td>1</td>\n",
       "      <td>Full-time</td>\n",
       "      <td>Mid-Senior level</td>\n",
       "      <td>Bachelor's Degree</td>\n",
       "      <td>Hospital &amp; Health Care</td>\n",
       "      <td>Health Care Provider</td>\n",
       "      <td>0</td>\n",
       "    </tr>\n",
       "  </tbody>\n",
       "</table>\n",
       "</div>"
      ],
      "text/plain": [
       "                                            title            location  \\\n",
       "job_id                                                                  \n",
       "1                                Marketing Intern    US, NY, New York   \n",
       "2       Customer Service - Cloud Video Production      NZ, , Auckland   \n",
       "3         Commissioning Machinery Assistant (CMA)       US, IA, Wever   \n",
       "4               Account Executive - Washington DC  US, DC, Washington   \n",
       "5                             Bill Review Manager  US, FL, Fort Worth   \n",
       "\n",
       "       department salary_range  \\\n",
       "job_id                           \n",
       "1       Marketing          NaN   \n",
       "2         Success          NaN   \n",
       "3             NaN          NaN   \n",
       "4           Sales          NaN   \n",
       "5             NaN          NaN   \n",
       "\n",
       "                                          company_profile  \\\n",
       "job_id                                                      \n",
       "1       We're Food52, and we've created a groundbreaki...   \n",
       "2       90 Seconds, the worlds Cloud Video Production ...   \n",
       "3       Valor Services provides Workforce Solutions th...   \n",
       "4       Our passion for improving quality of life thro...   \n",
       "5       SpotSource Solutions LLC is a Global Human Cap...   \n",
       "\n",
       "                                              description  \\\n",
       "job_id                                                      \n",
       "1       Food52, a fast-growing, James Beard Award-winn...   \n",
       "2       Organised - Focused - Vibrant - Awesome!Do you...   \n",
       "3       Our client, located in Houston, is actively se...   \n",
       "4       THE COMPANY: ESRI – Environmental Systems Rese...   \n",
       "5       JOB TITLE: Itemization Review ManagerLOCATION:...   \n",
       "\n",
       "                                             requirements  \\\n",
       "job_id                                                      \n",
       "1       Experience with content management systems a m...   \n",
       "2       What we expect from you:Your key responsibilit...   \n",
       "3       Implement pre-commissioning and commissioning ...   \n",
       "4       EDUCATION: Bachelor’s or Master’s in GIS, busi...   \n",
       "5       QUALIFICATIONS:RN license in the State of Texa...   \n",
       "\n",
       "                                                 benefits  telecommuting  \\\n",
       "job_id                                                                     \n",
       "1                                                     NaN              0   \n",
       "2       What you will get from usThrough being part of...              0   \n",
       "3                                                     NaN              0   \n",
       "4       Our culture is anything but corporate—we have ...              0   \n",
       "5                                   Full Benefits Offered              0   \n",
       "\n",
       "        has_company_logo  has_questions employment_type required_experience  \\\n",
       "job_id                                                                        \n",
       "1                      1              0           Other          Internship   \n",
       "2                      1              0       Full-time      Not Applicable   \n",
       "3                      1              0             NaN                 NaN   \n",
       "4                      1              0       Full-time    Mid-Senior level   \n",
       "5                      1              1       Full-time    Mid-Senior level   \n",
       "\n",
       "       required_education                   industry              function  \\\n",
       "job_id                                                                       \n",
       "1                     NaN                        NaN             Marketing   \n",
       "2                     NaN  Marketing and Advertising      Customer Service   \n",
       "3                     NaN                        NaN                   NaN   \n",
       "4       Bachelor's Degree          Computer Software                 Sales   \n",
       "5       Bachelor's Degree     Hospital & Health Care  Health Care Provider   \n",
       "\n",
       "        fraudulent  \n",
       "job_id              \n",
       "1                0  \n",
       "2                0  \n",
       "3                0  \n",
       "4                0  \n",
       "5                0  "
      ]
     },
     "execution_count": 6,
     "metadata": {},
     "output_type": "execute_result"
    }
   ],
   "source": [
    "#check data load\n",
    "data.head()"
   ]
  },
  {
   "cell_type": "code",
   "execution_count": 7,
   "id": "cbfad2a6",
   "metadata": {},
   "outputs": [
    {
     "name": "stdout",
     "output_type": "stream",
     "text": [
      "<class 'pandas.core.frame.DataFrame'>\n",
      "Int64Index: 17880 entries, 1 to 17880\n",
      "Data columns (total 17 columns):\n",
      " #   Column               Non-Null Count  Dtype \n",
      "---  ------               --------------  ----- \n",
      " 0   title                17880 non-null  object\n",
      " 1   location             17534 non-null  object\n",
      " 2   department           6333 non-null   object\n",
      " 3   salary_range         2868 non-null   object\n",
      " 4   company_profile      14572 non-null  object\n",
      " 5   description          17879 non-null  object\n",
      " 6   requirements         15185 non-null  object\n",
      " 7   benefits             10670 non-null  object\n",
      " 8   telecommuting        17880 non-null  int64 \n",
      " 9   has_company_logo     17880 non-null  int64 \n",
      " 10  has_questions        17880 non-null  int64 \n",
      " 11  employment_type      14409 non-null  object\n",
      " 12  required_experience  10830 non-null  object\n",
      " 13  required_education   9775 non-null   object\n",
      " 14  industry             12977 non-null  object\n",
      " 15  function             11425 non-null  object\n",
      " 16  fraudulent           17880 non-null  int64 \n",
      "dtypes: int64(4), object(13)\n",
      "memory usage: 2.5+ MB\n"
     ]
    }
   ],
   "source": [
    "#check general information\n",
    "data.info()"
   ]
  },
  {
   "cell_type": "markdown",
   "id": "5f760cbf",
   "metadata": {},
   "source": [
    "* Many null values for several explanatory variables\n",
    "* No null values for the target variable 'fraudulent'\n",
    "* Categorical and text variables only, no numeric variables"
   ]
  },
  {
   "cell_type": "code",
   "execution_count": 8,
   "id": "41e3b8c5",
   "metadata": {},
   "outputs": [
    {
     "data": {
      "text/plain": [
       "281"
      ]
     },
     "execution_count": 8,
     "metadata": {},
     "output_type": "execute_result"
    }
   ],
   "source": [
    "#check for duplicates\n",
    "data.duplicated().sum()"
   ]
  },
  {
   "cell_type": "code",
   "execution_count": 9,
   "id": "3f507ee2",
   "metadata": {},
   "outputs": [],
   "source": [
    "#drop duplicates\n",
    "df = pd.DataFrame(data.drop_duplicates())"
   ]
  },
  {
   "cell_type": "code",
   "execution_count": 10,
   "id": "4a4eaacf",
   "metadata": {},
   "outputs": [
    {
     "data": {
      "text/plain": [
       "0    16743\n",
       "1      856\n",
       "Name: fraudulent, dtype: int64"
      ]
     },
     "execution_count": 10,
     "metadata": {},
     "output_type": "execute_result"
    }
   ],
   "source": [
    "#check target variable classes\n",
    "df.fraudulent.value_counts()"
   ]
  },
  {
   "cell_type": "markdown",
   "id": "c02f538f",
   "metadata": {},
   "source": [
    "* Very imbalanced classes\n",
    "* Very few data points for the minority class"
   ]
  },
  {
   "cell_type": "code",
   "execution_count": 11,
   "id": "4ff840a0",
   "metadata": {},
   "outputs": [
    {
     "data": {
      "text/plain": [
       "salary_range           83.94\n",
       "department             64.37\n",
       "required_education     45.51\n",
       "benefits               40.38\n",
       "required_experience    39.56\n",
       "function               36.16\n",
       "industry               27.48\n",
       "employment_type        19.48\n",
       "company_profile        18.65\n",
       "requirements           15.05\n",
       "location                1.94\n",
       "description             0.01\n",
       "title                   0.00\n",
       "telecommuting           0.00\n",
       "has_questions           0.00\n",
       "has_company_logo        0.00\n",
       "fraudulent              0.00\n",
       "dtype: float64"
      ]
     },
     "execution_count": 11,
     "metadata": {},
     "output_type": "execute_result"
    }
   ],
   "source": [
    "#check null value percentages \n",
    "(round(df.isnull().sum()/len(df)*100, 2)).sort_values(ascending=False)"
   ]
  },
  {
   "cell_type": "markdown",
   "id": "0c99d343",
   "metadata": {},
   "source": [
    "* Simple imputation strategies will be avoided in order to retain as much information as possible for the extremely small minority class"
   ]
  },
  {
   "cell_type": "markdown",
   "id": "814a0ffd",
   "metadata": {},
   "source": [
    "### Categorical Variables"
   ]
  },
  {
   "cell_type": "code",
   "execution_count": 12,
   "id": "6bbca4c6",
   "metadata": {},
   "outputs": [
    {
     "data": {
      "text/plain": [
       "0-0            141\n",
       "40000-50000     66\n",
       "30000-40000     54\n",
       "45000-67000     36\n",
       "25000-30000     36\n",
       "              ... \n",
       "60-75            1\n",
       "27500-36000      1\n",
       "20-22            1\n",
       "110-120          1\n",
       "3700-3800        1\n",
       "Name: salary_range, Length: 874, dtype: int64"
      ]
     },
     "execution_count": 12,
     "metadata": {},
     "output_type": "execute_result"
    }
   ],
   "source": [
    "#check salary_range column\n",
    "df.salary_range.value_counts()"
   ]
  },
  {
   "cell_type": "markdown",
   "id": "183c57f7",
   "metadata": {},
   "source": [
    "* 84% missing values\n",
    "* Inconsistent ranges, perhaps due to hourly/annual salary differences\n",
    "* Any distribution based on actual salary value will likely not be relevant\n",
    "* However, fraud may be predicted by a 'fake' salary range\n",
    "* Convert to a boolean variable"
   ]
  },
  {
   "cell_type": "code",
   "execution_count": 13,
   "id": "67f684d2",
   "metadata": {},
   "outputs": [],
   "source": [
    "#create has_salary column to replace salary_range\n",
    "df['has_salary'] = df.salary_range.notnull().astype('int')\n",
    "\n",
    "#drop salary_range column\n",
    "df.drop(columns=['salary_range'], inplace=True)"
   ]
  },
  {
   "cell_type": "code",
   "execution_count": 14,
   "id": "512a38d3",
   "metadata": {},
   "outputs": [
    {
     "data": {
      "text/plain": [
       "Bachelor's Degree                    5099\n",
       "High School or equivalent            1989\n",
       "Unspecified                          1369\n",
       "Master's Degree                       416\n",
       "Associate Degree                      264\n",
       "Certification                         165\n",
       "Some College Coursework Completed     100\n",
       "Professional                           73\n",
       "Vocational                             47\n",
       "Some High School Coursework            27\n",
       "Doctorate                              26\n",
       "Vocational - HS Diploma                 9\n",
       "Vocational - Degree                     6\n",
       "Name: required_education, dtype: int64"
      ]
     },
     "execution_count": 14,
     "metadata": {},
     "output_type": "execute_result"
    }
   ],
   "source": [
    "#check required_education\n",
    "df.required_education.value_counts()"
   ]
  },
  {
   "cell_type": "markdown",
   "id": "7ab6d94d",
   "metadata": {},
   "source": [
    "* 'Unspecified' column already exists\n",
    "* Multiple 'Vocational' values"
   ]
  },
  {
   "cell_type": "code",
   "execution_count": 15,
   "id": "6ed34885",
   "metadata": {},
   "outputs": [],
   "source": [
    "#fill missing values with 'Unspecified'\n",
    "df.required_education.fillna('Unspecified', inplace=True)"
   ]
  },
  {
   "cell_type": "code",
   "execution_count": 16,
   "id": "2c4ee91b",
   "metadata": {},
   "outputs": [],
   "source": [
    "#consolidate vocational values\n",
    "df.required_education.replace(to_replace=['Vocational - HS Diploma','Vocational - Degree'], value='Vocational', inplace=True)\n"
   ]
  },
  {
   "cell_type": "code",
   "execution_count": 17,
   "id": "0bfaa9bd",
   "metadata": {},
   "outputs": [
    {
     "data": {
      "image/png": "[encoded data removed]",
      "text/plain": [
       "<Figure size 773x360 with 1 Axes>"
      ]
     },
     "metadata": {},
     "output_type": "display_data"
    }
   ],
   "source": [
    "#check distribution of education\n",
    "order = df.required_education.value_counts().index\n",
    "sns.set_style(\"darkgrid\")\n",
    "sns.catplot(y='required_education', data=df, order=order, kind='count', orient='h', aspect=2, hue='fraudulent')\n",
    "plt.title('Required Education Count')\n",
    "plt.xlabel('Count')\n",
    "plt.ylabel('Education Level')\n",
    "plt.show()"
   ]
  },
  {
   "cell_type": "markdown",
   "id": "de750f0b",
   "metadata": {},
   "source": [
    "* For both classes, many 'Unspecified' required education values\n",
    "* Fraudulent job postings target 'High School or equivalent' more than 'Bachelors'"
   ]
  },
  {
   "cell_type": "code",
   "execution_count": 18,
   "id": "297d52d2",
   "metadata": {},
   "outputs": [
    {
     "data": {
      "text/plain": [
       "Mid-Senior level    3768\n",
       "Entry level         2637\n",
       "Associate           2267\n",
       "Not Applicable      1070\n",
       "Director             383\n",
       "Internship           372\n",
       "Executive            140\n",
       "Name: required_experience, dtype: int64"
      ]
     },
     "execution_count": 18,
     "metadata": {},
     "output_type": "execute_result"
    }
   ],
   "source": [
    "#check required_experience\n",
    "df.required_experience.value_counts()"
   ]
  },
  {
   "cell_type": "markdown",
   "id": "5172af8c",
   "metadata": {},
   "source": [
    "* 'Not Applicable' may mean no experience is required\n",
    "* Fill missing values with 'Unspecified' to be consistent with education_required values "
   ]
  },
  {
   "cell_type": "code",
   "execution_count": 19,
   "id": "50e0019f",
   "metadata": {},
   "outputs": [],
   "source": [
    "#fill missing values with 'Unspecified'\n",
    "df.required_experience.fillna('Unspecified', inplace=True)"
   ]
  },
  {
   "cell_type": "code",
   "execution_count": 20,
   "id": "15bb0324",
   "metadata": {},
   "outputs": [
    {
     "data": {
      "image/png": "[encoded data removed]",
      "text/plain": [
       "<Figure size 773x360 with 1 Axes>"
      ]
     },
     "metadata": {},
     "output_type": "display_data"
    }
   ],
   "source": [
    "#check distribution of required_experience\n",
    "order = df.required_experience.value_counts().index\n",
    "sns.catplot(y='required_experience', data=df, order=order, kind='count', orient='h', aspect=2, hue='fraudulent')\n",
    "plt.title('Required Experience Count')\n",
    "plt.xlabel('Count')\n",
    "plt.ylabel('Experience Level')\n",
    "plt.show()"
   ]
  },
  {
   "cell_type": "markdown",
   "id": "8f2a6c6e",
   "metadata": {},
   "source": [
    "* Again, majority for both classes 'Unspecified'\n",
    "* Fraudulent job postings target 'Entry level' more than 'Mid-Senior level'"
   ]
  },
  {
   "cell_type": "code",
   "execution_count": 21,
   "id": "f6e0b00a",
   "metadata": {},
   "outputs": [
    {
     "data": {
      "text/plain": [
       "Full-time    11423\n",
       "Contract      1514\n",
       "Part-time      772\n",
       "Temporary      237\n",
       "Other          225\n",
       "Name: employment_type, dtype: int64"
      ]
     },
     "execution_count": 21,
     "metadata": {},
     "output_type": "execute_result"
    }
   ],
   "source": [
    "#check employment_type\n",
    "df.employment_type.value_counts()"
   ]
  },
  {
   "cell_type": "code",
   "execution_count": 22,
   "id": "33e1b45d",
   "metadata": {},
   "outputs": [],
   "source": [
    "#fill missing values with 'Unspecified'\n",
    "df.employment_type.fillna('Unspecified', inplace=True)"
   ]
  },
  {
   "cell_type": "code",
   "execution_count": 23,
   "id": "b0ecccc8",
   "metadata": {},
   "outputs": [
    {
     "data": {
      "image/png": "[encoded data removed]",
      "text/plain": [
       "<Figure size 773x360 with 1 Axes>"
      ]
     },
     "metadata": {},
     "output_type": "display_data"
    }
   ],
   "source": [
    "#check distribution of employment_type\n",
    "order=['Temporary','Contract','Part-time','Full-time','Other','Unspecified']\n",
    "sns.catplot(x='employment_type', data=df, order=order, kind='count', aspect=2, hue='fraudulent')\n",
    "plt.title('Employment Type Count')\n",
    "plt.xlabel('Employment Type')\n",
    "plt.ylabel('Count')\n",
    "plt.show()"
   ]
  },
  {
   "cell_type": "code",
   "execution_count": 24,
   "id": "06c701e2",
   "metadata": {},
   "outputs": [
    {
     "data": {
      "text/plain": [
       "GB, LND, London             718\n",
       "US, NY, New York            644\n",
       "US, CA, San Francisco       466\n",
       "GR, I, Athens               462\n",
       "US, ,                       339\n",
       "                           ... \n",
       "GB, , Bedford                 1\n",
       "IL, JM, Jerusalem             1\n",
       "US, MI, Marcellus Lawton      1\n",
       "ZA, GT, Four Ways             1\n",
       "GB, WSX, Chichester           1\n",
       "Name: location, Length: 3105, dtype: int64"
      ]
     },
     "execution_count": 24,
     "metadata": {},
     "output_type": "execute_result"
    }
   ],
   "source": [
    "#check location\n",
    "df.location.value_counts()"
   ]
  },
  {
   "cell_type": "markdown",
   "id": "a181fe7f",
   "metadata": {},
   "source": [
    "* Location can be separated out into three separate columns: country, state, city"
   ]
  },
  {
   "cell_type": "markdown",
   "id": "6bb60c57",
   "metadata": {},
   "source": [
    "### Geographical Variables"
   ]
  },
  {
   "cell_type": "code",
   "execution_count": 25,
   "id": "3d2c33bf",
   "metadata": {},
   "outputs": [
    {
     "name": "stdout",
     "output_type": "stream",
     "text": [
      "90\n"
     ]
    },
    {
     "data": {
      "text/plain": [
       "US    10460\n",
       "GB     2329\n",
       "GR      938\n",
       "CA      450\n",
       "DE      382\n",
       "      ...  \n",
       "SI        1\n",
       "PE        1\n",
       "SD        1\n",
       "UG        1\n",
       "KH        1\n",
       "Name: country, Length: 90, dtype: int64"
      ]
     },
     "execution_count": 25,
     "metadata": {},
     "output_type": "execute_result"
    }
   ],
   "source": [
    "#create country column\n",
    "df['country'] = df.location.str.split(',').str[0]\n",
    "print(df.country.nunique())\n",
    "df.country.value_counts()"
   ]
  },
  {
   "cell_type": "code",
   "execution_count": 26,
   "id": "41de25cc",
   "metadata": {},
   "outputs": [
    {
     "data": {
      "text/plain": [
       "341"
      ]
     },
     "execution_count": 26,
     "metadata": {},
     "output_type": "execute_result"
    }
   ],
   "source": [
    "#check missing values\n",
    "df.country.isnull().sum()"
   ]
  },
  {
   "cell_type": "code",
   "execution_count": 27,
   "id": "95361ea9",
   "metadata": {},
   "outputs": [],
   "source": [
    "#fill missing values with 'Unspecified'\n",
    "df.country.fillna('Unspecified', inplace=True)"
   ]
  },
  {
   "cell_type": "code",
   "execution_count": 28,
   "id": "edabd2a4",
   "metadata": {},
   "outputs": [
    {
     "data": {
      "image/png": "[encoded data removed]",
      "text/plain": [
       "<Figure size 773x360 with 1 Axes>"
      ]
     },
     "metadata": {},
     "output_type": "display_data"
    }
   ],
   "source": [
    "#check distribution of top 10 countries\n",
    "order = df.country.value_counts().head(10).index\n",
    "sns.catplot(y='country', data=df, order=order, kind='count', orient='h', aspect=2, hue='fraudulent')\n",
    "plt.title('Top 10 Countries Count')\n",
    "plt.xlabel('Country')\n",
    "plt.ylabel('Count')\n",
    "plt.show()"
   ]
  },
  {
   "cell_type": "markdown",
   "id": "e3eaa34a",
   "metadata": {},
   "source": [
    "* Majority of job postings overall in the US\n",
    "* Fraudulent job postings almost exclusively in the US"
   ]
  },
  {
   "cell_type": "code",
   "execution_count": 29,
   "id": "ca16c0be",
   "metadata": {},
   "outputs": [
    {
     "name": "stdout",
     "output_type": "stream",
     "text": [
      "325\n"
     ]
    },
    {
     "data": {
      "text/plain": [
       "        2108\n",
       " CA     2012\n",
       " NY     1228\n",
       " LND     991\n",
       " TX      957\n",
       "        ... \n",
       " ENF       1\n",
       " D         1\n",
       " 061       1\n",
       " 82        1\n",
       " NLE       1\n",
       "Name: state, Length: 325, dtype: int64"
      ]
     },
     "execution_count": 29,
     "metadata": {},
     "output_type": "execute_result"
    }
   ],
   "source": [
    "#create state column\n",
    "df['state'] = df.location.str.split(',').str[1]\n",
    "print(df.state.nunique())\n",
    "df.state.value_counts()"
   ]
  },
  {
   "cell_type": "markdown",
   "id": "175d5f39",
   "metadata": {},
   "source": [
    "* Some countries may not refer to sub-regions as 'states' and may instead refer to them by a numeric code\n",
    "* Numeric strings within the 'state' columns will be left as-is"
   ]
  },
  {
   "cell_type": "code",
   "execution_count": 30,
   "id": "b34fe428",
   "metadata": {},
   "outputs": [
    {
     "data": {
      "text/plain": [
       "432"
      ]
     },
     "execution_count": 30,
     "metadata": {},
     "output_type": "execute_result"
    }
   ],
   "source": [
    "#check missing values\n",
    "df.state.isnull().sum()"
   ]
  },
  {
   "cell_type": "code",
   "execution_count": 31,
   "id": "28fff752",
   "metadata": {},
   "outputs": [],
   "source": [
    "#fill missing values with 'Unspecified'\n",
    "df.state.fillna('Unspecified', inplace=True)"
   ]
  },
  {
   "cell_type": "code",
   "execution_count": 32,
   "id": "c9975c74",
   "metadata": {},
   "outputs": [
    {
     "name": "stdout",
     "output_type": "stream",
     "text": [
      "2026\n"
     ]
    },
    {
     "data": {
      "text/plain": [
       "                     1620\n",
       "london               1101\n",
       "new york              685\n",
       "athens                558\n",
       "san francisco         488\n",
       "                     ... \n",
       "perth and kinross       1\n",
       "ridgewood               1\n",
       "gaffney                 1\n",
       "ahens                   1\n",
       "berkeley heights        1\n",
       "Name: city, Length: 2026, dtype: int64"
      ]
     },
     "execution_count": 32,
     "metadata": {},
     "output_type": "execute_result"
    }
   ],
   "source": [
    "#create city column\n",
    "df['city'] = df.location.str.split(',').str[2]\n",
    "\n",
    "#lowercase and trim whitespace\n",
    "df.city = df.city.str.lower().str.strip()\n",
    "\n",
    "print(df.city.nunique())\n",
    "df.city.value_counts()"
   ]
  },
  {
   "cell_type": "markdown",
   "id": "93107d56",
   "metadata": {},
   "source": [
    "* Some values are misentered (incorrect spelling, entered state instead of city)\n",
    "* Errors may be indicative of fraud and will be left as-is"
   ]
  },
  {
   "cell_type": "code",
   "execution_count": 33,
   "id": "0e2a8304",
   "metadata": {},
   "outputs": [
    {
     "data": {
      "text/plain": [
       "432"
      ]
     },
     "execution_count": 33,
     "metadata": {},
     "output_type": "execute_result"
    }
   ],
   "source": [
    "#check missing values\n",
    "df.city.isnull().sum()"
   ]
  },
  {
   "cell_type": "code",
   "execution_count": 34,
   "id": "4b0dc8d2",
   "metadata": {},
   "outputs": [],
   "source": [
    "#fill missing values with 'Unspecified'\n",
    "df.city.fillna('Unspecified', inplace=True)"
   ]
  },
  {
   "cell_type": "code",
   "execution_count": 35,
   "id": "bc76aaad",
   "metadata": {},
   "outputs": [],
   "source": [
    "#drop location column\n",
    "df.drop(columns=['location'], inplace=True)"
   ]
  },
  {
   "cell_type": "markdown",
   "id": "a1854454",
   "metadata": {},
   "source": [
    "### Overlapping Variables"
   ]
  },
  {
   "cell_type": "code",
   "execution_count": 36,
   "id": "97d484cb",
   "metadata": {},
   "outputs": [
    {
     "name": "stdout",
     "output_type": "stream",
     "text": [
      "total unique departments:  1337\n",
      "top 10 departments:\n",
      "Sales                     541\n",
      "Engineering               483\n",
      "Marketing                 397\n",
      "Operations                266\n",
      "IT                        224\n",
      "Development               146\n",
      "Product                   112\n",
      "Information Technology     86\n",
      "Design                     76\n",
      "Technology                 75\n",
      "Name: department, dtype: int64\n"
     ]
    }
   ],
   "source": [
    "#department unique values and top 10 values``\n",
    "print('total unique departments: ', df.department.nunique())\n",
    "print('top 10 departments:')\n",
    "print(df.department.value_counts().head(10))"
   ]
  },
  {
   "cell_type": "markdown",
   "id": "5b51037b",
   "metadata": {},
   "source": [
    "* Inconsistency in categorization (ex. IT vs Information Technology, tech VS Technology)"
   ]
  },
  {
   "cell_type": "code",
   "execution_count": 37,
   "id": "b3cff849",
   "metadata": {},
   "outputs": [
    {
     "name": "stdout",
     "output_type": "stream",
     "text": [
      "total unique functions:  37\n",
      "top 10 functions:\n",
      "Information Technology    1730\n",
      "Sales                     1448\n",
      "Engineering               1339\n",
      "Customer Service          1180\n",
      "Marketing                  818\n",
      "Administrative             613\n",
      "Design                     336\n",
      "Health Care Provider       326\n",
      "Other                      325\n",
      "Education                  325\n",
      "Name: function, dtype: int64\n"
     ]
    }
   ],
   "source": [
    "#function unique values and top 10 values``\n",
    "print('total unique functions: ', df.function.nunique())\n",
    "print('top 10 functions:')\n",
    "print(df.function.value_counts().head(10))"
   ]
  },
  {
   "cell_type": "markdown",
   "id": "60424223",
   "metadata": {},
   "source": [
    "* Categorized more consistently than 'department'"
   ]
  },
  {
   "cell_type": "code",
   "execution_count": 38,
   "id": "83c31770",
   "metadata": {},
   "outputs": [
    {
     "name": "stdout",
     "output_type": "stream",
     "text": [
      "total unique industries:  131\n",
      "top 10 industries:\n",
      "Information Technology and Services    1711\n",
      "Computer Software                      1362\n",
      "Internet                               1054\n",
      "Education Management                    819\n",
      "Marketing and Advertising               818\n",
      "Financial Services                      748\n",
      "Hospital & Health Care                  483\n",
      "Consumer Services                       348\n",
      "Telecommunications                      326\n",
      "Oil & Energy                            286\n",
      "Name: industry, dtype: int64\n"
     ]
    }
   ],
   "source": [
    "#industry unique values and top 10 values``\n",
    "print('total unique industries: ', df.industry.nunique())\n",
    "print('top 10 industries:')\n",
    "print(df.industry.value_counts().head(10))"
   ]
  },
  {
   "cell_type": "markdown",
   "id": "bee410da",
   "metadata": {},
   "source": [
    "* Of the three, 'department' has by far the most missing values (~65%) and is the least consistently categorized (1337 unique values)\n",
    "* The remaining two have fewer missing values: 'function' (36%) and 'industry' (27%), and are relatively more consistently categorized: 'function' (37 unique values) and 'industry' (131 unique values)\n",
    "* Drop the 'department' column, keep 'function' and 'industry'"
   ]
  },
  {
   "cell_type": "code",
   "execution_count": 39,
   "id": "c53b4601",
   "metadata": {},
   "outputs": [],
   "source": [
    "#drop department\n",
    "df.drop(columns=['department'], inplace=True)"
   ]
  },
  {
   "cell_type": "code",
   "execution_count": 40,
   "id": "f5877105",
   "metadata": {},
   "outputs": [],
   "source": [
    "#fill missing values with 'Unspecified'\n",
    "df.function.fillna('Unspecified', inplace=True)\n",
    "df.industry.fillna('Unspecified', inplace=True)"
   ]
  },
  {
   "cell_type": "markdown",
   "id": "56839b5e",
   "metadata": {},
   "source": [
    "### Numeric Variables from Text"
   ]
  },
  {
   "cell_type": "markdown",
   "id": "35e72666",
   "metadata": {},
   "source": [
    "* Basic numeric features will be created from the text before the text is transformed during vectorization \n",
    "* TFIDF analysis will be done after the train/test split to prevent data leakage"
   ]
  },
  {
   "cell_type": "code",
   "execution_count": 41,
   "id": "7a4ad854",
   "metadata": {},
   "outputs": [],
   "source": [
    "#create list of text variables\n",
    "text = ['title','company_profile','description','requirements','benefits']"
   ]
  },
  {
   "cell_type": "code",
   "execution_count": 42,
   "id": "0226a79e",
   "metadata": {},
   "outputs": [],
   "source": [
    "#create title character count variable\n",
    "df['title_char'] = df.title.apply(len)"
   ]
  },
  {
   "cell_type": "code",
   "execution_count": 43,
   "id": "39082ea3",
   "metadata": {},
   "outputs": [],
   "source": [
    "#function for word count\n",
    "def word_count(text):\n",
    "    return len(text.split())"
   ]
  },
  {
   "cell_type": "code",
   "execution_count": 44,
   "id": "d1a97853",
   "metadata": {},
   "outputs": [],
   "source": [
    "#combine all text\n",
    "df['combined_text'] = df[text].apply(lambda x: ' '.join(x.values.astype(str)), axis=1)\n",
    "\n",
    "#drop other text columns\n",
    "df.drop(columns=text, axis=1, inplace=True)"
   ]
  },
  {
   "cell_type": "code",
   "execution_count": 45,
   "id": "55b6c1e3",
   "metadata": {},
   "outputs": [],
   "source": [
    "#create total word count variable\n",
    "df['total_word'] = df.combined_text.astype('str').apply(word_count)"
   ]
  },
  {
   "cell_type": "code",
   "execution_count": 46,
   "id": "425ec941",
   "metadata": {},
   "outputs": [],
   "source": [
    "#function for sentence count\n",
    "def sent_count(text):\n",
    "    return len(sent_tokenize(text))"
   ]
  },
  {
   "cell_type": "code",
   "execution_count": 47,
   "id": "3fc21f2b",
   "metadata": {},
   "outputs": [],
   "source": [
    "#create total sentence count\n",
    "df['total_sent'] = df.combined_text.astype('str').apply(sent_count)"
   ]
  },
  {
   "cell_type": "code",
   "execution_count": 48,
   "id": "6a4e9ffe",
   "metadata": {},
   "outputs": [],
   "source": [
    "#create average words per sentence\n",
    "df['avg_words_sent'] = df['total_word']/df['total_sent']"
   ]
  },
  {
   "cell_type": "code",
   "execution_count": 49,
   "id": "0b4dbc14",
   "metadata": {},
   "outputs": [],
   "source": [
    "#define numeric variable list\n",
    "numeric = ['title_char','total_word','total_sent','avg_words_sent']"
   ]
  },
  {
   "cell_type": "code",
   "execution_count": 47,
   "id": "592dff8e",
   "metadata": {},
   "outputs": [
    {
     "data": {
      "image/png": "[encoded data removed]",
      "text/plain": [
       "<Figure size 773x720 with 20 Axes>"
      ]
     },
     "metadata": {},
     "output_type": "display_data"
    }
   ],
   "source": [
    "#check pair plots\n",
    "sns.pairplot(data=df, vars=numeric, hue='fraudulent', kind='kde')\n",
    "plt.show()"
   ]
  },
  {
   "cell_type": "markdown",
   "id": "899644aa",
   "metadata": {},
   "source": [
    "* In general, it looks like fraudulent job postings tend to stay in a shorter range\n",
    "* Distributions indicate numeric variables will need to be scaled during preprocessing "
   ]
  },
  {
   "cell_type": "markdown",
   "id": "b2036448",
   "metadata": {},
   "source": [
    "### Target Variable"
   ]
  },
  {
   "cell_type": "code",
   "execution_count": 50,
   "id": "d71bb5dd",
   "metadata": {},
   "outputs": [
    {
     "name": "stdout",
     "output_type": "stream",
     "text": [
      "% of fraudulent job postings:  4.86\n"
     ]
    }
   ],
   "source": [
    "#check class imbalance percentage\n",
    "print('% of fraudulent job postings: ', round(df.fraudulent.sum()/len(df.fraudulent)*100, 2))"
   ]
  },
  {
   "cell_type": "markdown",
   "id": "13780094",
   "metadata": {},
   "source": [
    "* The 'fraudulent' class is less than 5% of the data\n",
    "* Because the key metric is recall, the minority class can by oversampled synthetically during preprocessing"
   ]
  },
  {
   "cell_type": "code",
   "execution_count": 51,
   "id": "22775808",
   "metadata": {},
   "outputs": [],
   "source": [
    "#define target variable\n",
    "y = df.fraudulent\n",
    "X = df.drop('fraudulent', axis=1)"
   ]
  },
  {
   "cell_type": "markdown",
   "id": "e947caae",
   "metadata": {},
   "source": [
    "## Preprocessing"
   ]
  },
  {
   "cell_type": "code",
   "execution_count": 52,
   "id": "70c1d26e",
   "metadata": {},
   "outputs": [],
   "source": [
    "#define variable lists by type\n",
    "numeric = X.select_dtypes(['int','float']).columns.tolist()\n",
    "categorical = [column for column in X.columns if column not in numeric and column != 'combined_text']"
   ]
  },
  {
   "cell_type": "code",
   "execution_count": 53,
   "id": "a4cdf9b2",
   "metadata": {},
   "outputs": [],
   "source": [
    "#create pre-processor for variable types\n",
    "processor = ColumnTransformer(transformers=[\n",
    "    ('text', TfidfVectorizer(strip_accents='unicode', stop_words='english'), 'combined_text'),\n",
    "    ('number', MinMaxScaler(), numeric),\n",
    "    ('category', OneHotEncoder(handle_unknown='ignore'), categorical)])"
   ]
  },
  {
   "cell_type": "code",
   "execution_count": 54,
   "id": "1fecda2f",
   "metadata": {},
   "outputs": [],
   "source": [
    "#split into train and test sets\n",
    "X_train, X_test, y_train, y_test = train_test_split(X, y, stratify=y, test_size=0.2, random_state=14)"
   ]
  },
  {
   "cell_type": "markdown",
   "id": "267543b3",
   "metadata": {},
   "source": [
    "## Modeling"
   ]
  },
  {
   "cell_type": "code",
   "execution_count": 92,
   "id": "a3a9852f",
   "metadata": {},
   "outputs": [],
   "source": [
    "#create model using imblearn pipeline for pre-processing, over-sampling, and the classifier\n",
    "model = Pipeline(steps=[\n",
    "    ['processor', processor],\n",
    "    ['oversampling', SMOTE(random_state=14)],\n",
    "    ['feature_selection', SelectFromModel(estimator=LogisticRegression(penalty='l1', solver='liblinear'))],\n",
    "    ['classifier', ComplementNB()] \n",
    "])"
   ]
  },
  {
   "cell_type": "code",
   "execution_count": 93,
   "id": "05005142",
   "metadata": {},
   "outputs": [
    {
     "data": {
      "text/plain": [
       "Pipeline(steps=[('processor',\n",
       "                 ColumnTransformer(transformers=[('text',\n",
       "                                                  TfidfVectorizer(stop_words='english',\n",
       "                                                                  strip_accents='unicode'),\n",
       "                                                  'combined_text'),\n",
       "                                                 ('number', MinMaxScaler(),\n",
       "                                                  ['telecommuting',\n",
       "                                                   'has_company_logo',\n",
       "                                                   'has_questions',\n",
       "                                                   'has_salary', 'title_char',\n",
       "                                                   'total_word', 'total_sent',\n",
       "                                                   'avg_words_sent']),\n",
       "                                                 ('category',\n",
       "                                                  OneHotEncoder(handle_unknown='ignore'),\n",
       "                                                  ['employment_type',\n",
       "                                                   'required_experience',\n",
       "                                                   'required_education',\n",
       "                                                   'industry', 'function',\n",
       "                                                   'country', 'state',\n",
       "                                                   'city'])])),\n",
       "                ('oversampling', SMOTE(random_state=14)),\n",
       "                ('feature_selection',\n",
       "                 SelectFromModel(estimator=LogisticRegression(penalty='l1',\n",
       "                                                              solver='liblinear'))),\n",
       "                ['classifier', ComplementNB()]])"
      ]
     },
     "execution_count": 93,
     "metadata": {},
     "output_type": "execute_result"
    }
   ],
   "source": [
    "#fit model on training data\n",
    "model.fit(X_train, y_train)"
   ]
  },
  {
   "cell_type": "code",
   "execution_count": 94,
   "id": "dd1aeab3",
   "metadata": {},
   "outputs": [],
   "source": [
    "#make predictions on both train and test sets\n",
    "training_pred = model.predict(X_train)\n",
    "testing_pred = model.predict(X_test)"
   ]
  },
  {
   "cell_type": "code",
   "execution_count": 95,
   "id": "c66ee823",
   "metadata": {},
   "outputs": [
    {
     "name": "stdout",
     "output_type": "stream",
     "text": [
      "training classification report:\n",
      "              precision    recall  f1-score   support\n",
      "\n",
      "           0       0.99      0.89      0.94     13394\n",
      "           1       0.29      0.91      0.44       685\n",
      "\n",
      "    accuracy                           0.89     14079\n",
      "   macro avg       0.64      0.90      0.69     14079\n",
      "weighted avg       0.96      0.89      0.91     14079\n",
      "\n",
      "testing classification report:\n",
      "              precision    recall  f1-score   support\n",
      "\n",
      "           0       0.99      0.87      0.93      3349\n",
      "           1       0.25      0.85      0.39       171\n",
      "\n",
      "    accuracy                           0.87      3520\n",
      "   macro avg       0.62      0.86      0.66      3520\n",
      "weighted avg       0.96      0.87      0.90      3520\n",
      "\n"
     ]
    }
   ],
   "source": [
    "#check classification reports\n",
    "training_report = classification_report(y_train, training_pred)\n",
    "testing_report = classification_report(y_test, testing_pred)\n",
    "print('training classification report:')\n",
    "print(training_report)\n",
    "print('testing classification report:')\n",
    "print(testing_report)"
   ]
  },
  {
   "cell_type": "markdown",
   "id": "42861622",
   "metadata": {},
   "source": [
    "* Strong out-of-the-box performance by Complement Naive Bayes for the key metric: recall of the minority class (0.87)\n",
    "* Precision of the minority class is lower than recall but is also not as relevant to the problem statement\n",
    "* Additional models will not be considered; instead, hyperparameter tuning of the Complement Naive Bayes"
   ]
  },
  {
   "cell_type": "code",
   "execution_count": 131,
   "id": "0f8f90d6",
   "metadata": {},
   "outputs": [
    {
     "data": {
      "text/plain": [
       "477"
      ]
     },
     "execution_count": 131,
     "metadata": {},
     "output_type": "execute_result"
    }
   ],
   "source": [
    "sum(model['feature_selection'].get_support())"
   ]
  },
  {
   "cell_type": "code",
   "execution_count": 132,
   "id": "33ef5904",
   "metadata": {},
   "outputs": [
    {
     "data": {
      "text/plain": [
       "numpy.ndarray"
      ]
     },
     "execution_count": 132,
     "metadata": {},
     "output_type": "execute_result"
    }
   ],
   "source": [
    "features = model['processor'].get_feature_names_out().ravel()\n",
    "type(features)"
   ]
  },
  {
   "cell_type": "code",
   "execution_count": 133,
   "id": "d65b40bc",
   "metadata": {},
   "outputs": [
    {
     "data": {
      "text/plain": [
       "numpy.ndarray"
      ]
     },
     "execution_count": 133,
     "metadata": {},
     "output_type": "execute_result"
    }
   ],
   "source": [
    "importances = np.abs(model['feature_selection'].estimator_.coef_.ravel())\n",
    "type(importances)"
   ]
  },
  {
   "cell_type": "code",
   "execution_count": 142,
   "id": "db285ac5",
   "metadata": {},
   "outputs": [],
   "source": [
    "feature_imps = pd.DataFrame(zip(features, importances), columns=['features','importances'])"
   ]
  },
  {
   "cell_type": "code",
   "execution_count": 154,
   "id": "484a278b",
   "metadata": {},
   "outputs": [],
   "source": [
    "feature_imps_sorted = feature_imps.sort_values(by='importances',ascending=False).head(10)"
   ]
  },
  {
   "cell_type": "code",
   "execution_count": 147,
   "id": "3120e8cd",
   "metadata": {
    "scrolled": false
   },
   "outputs": [
    {
     "data": {
      "text/html": [
       "<div>\n",
       "<style scoped>\n",
       "    .dataframe tbody tr th:only-of-type {\n",
       "        vertical-align: middle;\n",
       "    }\n",
       "\n",
       "    .dataframe tbody tr th {\n",
       "        vertical-align: top;\n",
       "    }\n",
       "\n",
       "    .dataframe thead th {\n",
       "        text-align: right;\n",
       "    }\n",
       "</style>\n",
       "<table border=\"1\" class=\"dataframe\">\n",
       "  <thead>\n",
       "    <tr style=\"text-align: right;\">\n",
       "      <th></th>\n",
       "      <th>features</th>\n",
       "      <th>importances</th>\n",
       "    </tr>\n",
       "  </thead>\n",
       "  <tbody>\n",
       "    <tr>\n",
       "      <th>2314</th>\n",
       "      <td>text__accion</td>\n",
       "      <td>22.389753</td>\n",
       "    </tr>\n",
       "    <tr>\n",
       "      <th>71140</th>\n",
       "      <td>text__signing</td>\n",
       "      <td>21.761562</td>\n",
       "    </tr>\n",
       "    <tr>\n",
       "      <th>6253</th>\n",
       "      <td>text__aptitude</td>\n",
       "      <td>19.889383</td>\n",
       "    </tr>\n",
       "    <tr>\n",
       "      <th>15591</th>\n",
       "      <td>text__companies</td>\n",
       "      <td>19.075263</td>\n",
       "    </tr>\n",
       "    <tr>\n",
       "      <th>74892</th>\n",
       "      <td>text__sti</td>\n",
       "      <td>18.717262</td>\n",
       "    </tr>\n",
       "    <tr>\n",
       "      <th>71103</th>\n",
       "      <td>text__sigma</td>\n",
       "      <td>18.399697</td>\n",
       "    </tr>\n",
       "    <tr>\n",
       "      <th>14072</th>\n",
       "      <td>text__clearmark</td>\n",
       "      <td>16.588909</td>\n",
       "    </tr>\n",
       "    <tr>\n",
       "      <th>50921</th>\n",
       "      <td>text__novation</td>\n",
       "      <td>16.300921</td>\n",
       "    </tr>\n",
       "    <tr>\n",
       "      <th>56000</th>\n",
       "      <td>text__phone_0814f032f01156c9557f6d4239ae10ac57...</td>\n",
       "      <td>15.894445</td>\n",
       "    </tr>\n",
       "    <tr>\n",
       "      <th>30932</th>\n",
       "      <td>text__fiit</td>\n",
       "      <td>15.644814</td>\n",
       "    </tr>\n",
       "  </tbody>\n",
       "</table>\n",
       "</div>"
      ],
      "text/plain": [
       "                                                features  importances\n",
       "2314                                        text__accion    22.389753\n",
       "71140                                      text__signing    21.761562\n",
       "6253                                      text__aptitude    19.889383\n",
       "15591                                    text__companies    19.075263\n",
       "74892                                          text__sti    18.717262\n",
       "71103                                        text__sigma    18.399697\n",
       "14072                                    text__clearmark    16.588909\n",
       "50921                                     text__novation    16.300921\n",
       "56000  text__phone_0814f032f01156c9557f6d4239ae10ac57...    15.894445\n",
       "30932                                         text__fiit    15.644814"
      ]
     },
     "execution_count": 147,
     "metadata": {},
     "output_type": "execute_result"
    }
   ],
   "source": [
    "feature_imps_sorted.head(10)"
   ]
  },
  {
   "cell_type": "code",
   "execution_count": 155,
   "id": "7a6cf153",
   "metadata": {},
   "outputs": [
    {
     "data": {
      "image/png": "[encoded data removed]",
      "text/plain": [
       "<Figure size 432x288 with 1 Axes>"
      ]
     },
     "metadata": {},
     "output_type": "display_data"
    }
   ],
   "source": [
    "sns.barplot(y='features', x='importances', data=feature_imps_sorted, orient='h')\n",
    "\n",
    "plt.show()"
   ]
  },
  {
   "cell_type": "markdown",
   "id": "e3635ffe",
   "metadata": {},
   "source": [
    "### Hyperparameter Tuning"
   ]
  },
  {
   "cell_type": "markdown",
   "id": "f408d2cb",
   "metadata": {},
   "source": [
    "* Attempt to find optimal smoothing parameter to further increase recall of the minority class"
   ]
  },
  {
   "cell_type": "code",
   "execution_count": 57,
   "id": "b656b2c1",
   "metadata": {},
   "outputs": [],
   "source": [
    "#make scorer for the key metric: recall of the minority class\n",
    "scorer = make_scorer(recall_score, labels=[1], average=None)"
   ]
  },
  {
   "cell_type": "code",
   "execution_count": 58,
   "id": "acc01ce0",
   "metadata": {},
   "outputs": [],
   "source": [
    "#create param grid to test smoothing parameter--how much to adjust zero probability values in test set\n",
    "param_grid = {\n",
    "    'classifier__alpha': np.linspace(0.1, 1, 10),\n",
    "    'feature_selection__estimator__c': [0.01, 0.1, 1]}"
   ]
  },
  {
   "cell_type": "code",
   "execution_count": 59,
   "id": "3c4a4f5a",
   "metadata": {},
   "outputs": [],
   "source": [
    "#run grid search to optimize recall of the minority class\n",
    "grid_cv = GridSearchCV(model, param_grid=param_grid, cv=5, scoring=scorer)"
   ]
  },
  {
   "cell_type": "code",
   "execution_count": 60,
   "id": "e9d1464d",
   "metadata": {},
   "outputs": [
    {
     "data": {
      "text/plain": [
       "GridSearchCV(cv=5,\n",
       "             estimator=Pipeline(steps=[('processor',\n",
       "                                        ColumnTransformer(transformers=[('text',\n",
       "                                                                         TfidfVectorizer(stop_words='english',\n",
       "                                                                                         strip_accents='unicode'),\n",
       "                                                                         'combined_text'),\n",
       "                                                                        ('number',\n",
       "                                                                         MinMaxScaler(),\n",
       "                                                                         ['telecommuting',\n",
       "                                                                          'has_company_logo',\n",
       "                                                                          'has_questions',\n",
       "                                                                          'has_salary',\n",
       "                                                                          'title_char',\n",
       "                                                                          'total_word',\n",
       "                                                                          'total_sent',\n",
       "                                                                          'avg_words_sent']),\n",
       "                                                                        ('category',\n",
       "                                                                         OneHotEncoder(handle_unknown='ignore'),\n",
       "                                                                         ['employment_type',\n",
       "                                                                          'required_experience',\n",
       "                                                                          'required_education',\n",
       "                                                                          'industry',\n",
       "                                                                          'function',\n",
       "                                                                          'country',\n",
       "                                                                          'state',\n",
       "                                                                          'city'])])),\n",
       "                                       ('oversampling', SMOTE(random_state=14)),\n",
       "                                       ['classifier', ComplementNB()]]),\n",
       "             param_grid={'classifier__alpha': array([0.1, 0.2, 0.3, 0.4, 0.5, 0.6, 0.7, 0.8, 0.9, 1. ])},\n",
       "             scoring=make_scorer(recall_score, labels=[1], average=None))"
      ]
     },
     "execution_count": 60,
     "metadata": {},
     "output_type": "execute_result"
    }
   ],
   "source": [
    "#train grid search\n",
    "grid_cv.fit(X_train, y_train)"
   ]
  },
  {
   "cell_type": "code",
   "execution_count": 61,
   "id": "d588181c",
   "metadata": {},
   "outputs": [
    {
     "data": {
      "text/plain": [
       "{'classifier__alpha': 0.9}"
      ]
     },
     "execution_count": 61,
     "metadata": {},
     "output_type": "execute_result"
    }
   ],
   "source": [
    "#check best smoothing parameter\n",
    "grid_cv.best_params_"
   ]
  },
  {
   "cell_type": "code",
   "execution_count": 62,
   "id": "63798a11",
   "metadata": {},
   "outputs": [
    {
     "data": {
      "text/plain": [
       "array([0.84233577, 0.86423358, 0.86861314, 0.87737226, 0.88029197,\n",
       "       0.88029197, 0.88029197, 0.87883212, 0.88175182, 0.88029197])"
      ]
     },
     "execution_count": 62,
     "metadata": {},
     "output_type": "execute_result"
    }
   ],
   "source": [
    "#check range of mean test scores\n",
    "grid_cv.cv_results_['mean_test_score']"
   ]
  },
  {
   "cell_type": "markdown",
   "id": "99cd69d5",
   "metadata": {},
   "source": [
    "* Test scores stabilized around 0.88\n",
    "* Additional values in the smoothing parameter not likely to increase model performance"
   ]
  },
  {
   "cell_type": "code",
   "execution_count": 63,
   "id": "c51fb633",
   "metadata": {},
   "outputs": [],
   "source": [
    "#make predictions from the best estimator for additional metrics\n",
    "grid_train_pred = grid_cv.predict(X_train)\n",
    "grid_test_pred = grid_cv.predict(X_test)"
   ]
  },
  {
   "cell_type": "code",
   "execution_count": 64,
   "id": "462cc90e",
   "metadata": {},
   "outputs": [
    {
     "name": "stdout",
     "output_type": "stream",
     "text": [
      "training classification report:\n",
      "              precision    recall  f1-score   support\n",
      "\n",
      "           0       1.00      0.96      0.98     13394\n",
      "           1       0.54      0.98      0.70       685\n",
      "\n",
      "    accuracy                           0.96     14079\n",
      "   macro avg       0.77      0.97      0.84     14079\n",
      "weighted avg       0.98      0.96      0.96     14079\n",
      "\n",
      "testing classification report:\n",
      "              precision    recall  f1-score   support\n",
      "\n",
      "           0       0.99      0.95      0.97      3349\n",
      "           1       0.46      0.87      0.60       171\n",
      "\n",
      "    accuracy                           0.94      3520\n",
      "   macro avg       0.72      0.91      0.78      3520\n",
      "weighted avg       0.97      0.94      0.95      3520\n",
      "\n"
     ]
    }
   ],
   "source": [
    "#check classification reports\n",
    "grid_train_report = classification_report(y_train, grid_train_pred)\n",
    "grid_test_report = classification_report(y_test, grid_test_pred)\n",
    "print('training classification report:')\n",
    "print(grid_train_report)\n",
    "print('testing classification report:')\n",
    "print(grid_test_report)"
   ]
  },
  {
   "cell_type": "markdown",
   "id": "ea5f93b8",
   "metadata": {},
   "source": [
    "* Only slight improvements in precision and f1-score (not recall) compared to previous model"
   ]
  },
  {
   "cell_type": "code",
   "execution_count": null,
   "id": "8ef4f150",
   "metadata": {},
   "outputs": [],
   "source": []
  },
  {
   "cell_type": "code",
   "execution_count": null,
   "id": "708c25f8",
   "metadata": {},
   "outputs": [],
   "source": []
  },
  {
   "cell_type": "code",
   "execution_count": null,
   "id": "d9e0bd78",
   "metadata": {},
   "outputs": [],
   "source": []
  },
  {
   "cell_type": "code",
   "execution_count": null,
   "id": "30427d5c",
   "metadata": {},
   "outputs": [],
   "source": []
  },
  {
   "cell_type": "code",
   "execution_count": 65,
   "id": "e04e7263",
   "metadata": {},
   "outputs": [
    {
     "name": "stdout",
     "output_type": "stream",
     "text": [
      "training confusion matrix:\n",
      "[[12821   573]\n",
      " [   14   671]]\n",
      "testing confusion matrix: \n",
      "[[3173  176]\n",
      " [  23  148]]\n"
     ]
    }
   ],
   "source": [
    "#check confusion matrices\n",
    "training_matrix = confusion_matrix(y_train, grid_train_pred)\n",
    "testing_matrix = confusion_matrix(y_test, grid_test_pred)\n",
    "print('training confusion matrix:')\n",
    "print(training_matrix)\n",
    "print('testing confusion matrix: ')\n",
    "print(testing_matrix)"
   ]
  },
  {
   "cell_type": "markdown",
   "id": "18423659",
   "metadata": {},
   "source": [
    "* Only 23 fraudulent job postings were missed (misclassified as legitimate) in the test set\n",
    "* Model performance was likely affected but unseen text values, though a higher smoothing parameter value (0.9) has helped"
   ]
  },
  {
   "cell_type": "code",
   "execution_count": 66,
   "id": "e8757c58",
   "metadata": {},
   "outputs": [
    {
     "data": {
      "image/png": "[encoded data removed]",
      "text/plain": [
       "<Figure size 432x288 with 1 Axes>"
      ]
     },
     "metadata": {},
     "output_type": "display_data"
    }
   ],
   "source": [
    "#plot ROC curve and AUC score\n",
    "y_pred_proba = grid_cv.predict_proba(X_test)[::,1]\n",
    "fpr, tpr, _ = roc_curve(y_test,  y_pred_proba)\n",
    "auc = roc_auc_score(y_test, y_pred_proba)\n",
    "fig = plt.plot(fpr,tpr,label=\"AUC=\"+str(auc))\n",
    "plt.legend()\n",
    "plt.ylabel('True Positive Rate')\n",
    "plt.xlabel('False Positive Rate')\n",
    "plt.title('ROC Curve')\n",
    "plt.show()"
   ]
  },
  {
   "cell_type": "markdown",
   "id": "b4d1478c",
   "metadata": {},
   "source": [
    "* Model performance for the key metric is strong and not increasing significantly with additional hyperparameter tuning"
   ]
  },
  {
   "cell_type": "code",
   "execution_count": null,
   "id": "73fa4cb0",
   "metadata": {},
   "outputs": [],
   "source": []
  },
  {
   "cell_type": "code",
   "execution_count": null,
   "id": "3ae572c9",
   "metadata": {},
   "outputs": [],
   "source": []
  },
  {
   "cell_type": "code",
   "execution_count": null,
   "id": "a2cb1b8f",
   "metadata": {},
   "outputs": [],
   "source": []
  },
  {
   "cell_type": "code",
   "execution_count": null,
   "id": "44ac94e4",
   "metadata": {},
   "outputs": [],
   "source": []
  },
  {
   "cell_type": "code",
   "execution_count": null,
   "id": "da8721a1",
   "metadata": {},
   "outputs": [],
   "source": []
  },
  {
   "cell_type": "markdown",
   "id": "66952596",
   "metadata": {},
   "source": [
    "## Final Model"
   ]
  },
  {
   "cell_type": "code",
   "execution_count": 67,
   "id": "f975c793",
   "metadata": {},
   "outputs": [
    {
     "data": {
      "text/plain": [
       "{'memory': None,\n",
       " 'steps': [('processor',\n",
       "   ColumnTransformer(transformers=[('text',\n",
       "                                    TfidfVectorizer(stop_words='english',\n",
       "                                                    strip_accents='unicode'),\n",
       "                                    'combined_text'),\n",
       "                                   ('number', MinMaxScaler(),\n",
       "                                    ['telecommuting', 'has_company_logo',\n",
       "                                     'has_questions', 'has_salary', 'title_char',\n",
       "                                     'total_word', 'total_sent',\n",
       "                                     'avg_words_sent']),\n",
       "                                   ('category',\n",
       "                                    OneHotEncoder(handle_unknown='ignore'),\n",
       "                                    ['employment_type', 'required_experience',\n",
       "                                     'required_education', 'industry', 'function',\n",
       "                                     'country', 'state', 'city'])])),\n",
       "  ('oversampling', SMOTE(random_state=14)),\n",
       "  ['classifier', ComplementNB(alpha=0.9)]],\n",
       " 'verbose': False,\n",
       " 'processor': ColumnTransformer(transformers=[('text',\n",
       "                                  TfidfVectorizer(stop_words='english',\n",
       "                                                  strip_accents='unicode'),\n",
       "                                  'combined_text'),\n",
       "                                 ('number', MinMaxScaler(),\n",
       "                                  ['telecommuting', 'has_company_logo',\n",
       "                                   'has_questions', 'has_salary', 'title_char',\n",
       "                                   'total_word', 'total_sent',\n",
       "                                   'avg_words_sent']),\n",
       "                                 ('category',\n",
       "                                  OneHotEncoder(handle_unknown='ignore'),\n",
       "                                  ['employment_type', 'required_experience',\n",
       "                                   'required_education', 'industry', 'function',\n",
       "                                   'country', 'state', 'city'])]),\n",
       " 'oversampling': SMOTE(random_state=14),\n",
       " 'classifier': ComplementNB(alpha=0.9),\n",
       " 'processor__n_jobs': None,\n",
       " 'processor__remainder': 'drop',\n",
       " 'processor__sparse_threshold': 0.3,\n",
       " 'processor__transformer_weights': None,\n",
       " 'processor__transformers': [('text',\n",
       "   TfidfVectorizer(stop_words='english', strip_accents='unicode'),\n",
       "   'combined_text'),\n",
       "  ('number',\n",
       "   MinMaxScaler(),\n",
       "   ['telecommuting',\n",
       "    'has_company_logo',\n",
       "    'has_questions',\n",
       "    'has_salary',\n",
       "    'title_char',\n",
       "    'total_word',\n",
       "    'total_sent',\n",
       "    'avg_words_sent']),\n",
       "  ('category',\n",
       "   OneHotEncoder(handle_unknown='ignore'),\n",
       "   ['employment_type',\n",
       "    'required_experience',\n",
       "    'required_education',\n",
       "    'industry',\n",
       "    'function',\n",
       "    'country',\n",
       "    'state',\n",
       "    'city'])],\n",
       " 'processor__verbose': False,\n",
       " 'processor__verbose_feature_names_out': True,\n",
       " 'processor__text': TfidfVectorizer(stop_words='english', strip_accents='unicode'),\n",
       " 'processor__number': MinMaxScaler(),\n",
       " 'processor__category': OneHotEncoder(handle_unknown='ignore'),\n",
       " 'processor__text__analyzer': 'word',\n",
       " 'processor__text__binary': False,\n",
       " 'processor__text__decode_error': 'strict',\n",
       " 'processor__text__dtype': numpy.float64,\n",
       " 'processor__text__encoding': 'utf-8',\n",
       " 'processor__text__input': 'content',\n",
       " 'processor__text__lowercase': True,\n",
       " 'processor__text__max_df': 1.0,\n",
       " 'processor__text__max_features': None,\n",
       " 'processor__text__min_df': 1,\n",
       " 'processor__text__ngram_range': (1, 1),\n",
       " 'processor__text__norm': 'l2',\n",
       " 'processor__text__preprocessor': None,\n",
       " 'processor__text__smooth_idf': True,\n",
       " 'processor__text__stop_words': 'english',\n",
       " 'processor__text__strip_accents': 'unicode',\n",
       " 'processor__text__sublinear_tf': False,\n",
       " 'processor__text__token_pattern': '(?u)\\\\b\\\\w\\\\w+\\\\b',\n",
       " 'processor__text__tokenizer': None,\n",
       " 'processor__text__use_idf': True,\n",
       " 'processor__text__vocabulary': None,\n",
       " 'processor__number__clip': False,\n",
       " 'processor__number__copy': True,\n",
       " 'processor__number__feature_range': (0, 1),\n",
       " 'processor__category__categories': 'auto',\n",
       " 'processor__category__drop': None,\n",
       " 'processor__category__dtype': numpy.float64,\n",
       " 'processor__category__handle_unknown': 'ignore',\n",
       " 'processor__category__sparse': True,\n",
       " 'oversampling__k_neighbors': 5,\n",
       " 'oversampling__n_jobs': None,\n",
       " 'oversampling__random_state': 14,\n",
       " 'oversampling__sampling_strategy': 'auto',\n",
       " 'classifier__alpha': 0.9,\n",
       " 'classifier__class_prior': None,\n",
       " 'classifier__fit_prior': True,\n",
       " 'classifier__norm': False}"
      ]
     },
     "execution_count": 67,
     "metadata": {},
     "output_type": "execute_result"
    }
   ],
   "source": [
    "#final model parameters\n",
    "final_model = grid_cv.best_estimator_\n",
    "final_model.get_params()"
   ]
  },
  {
   "cell_type": "markdown",
   "id": "51ee11b8",
   "metadata": {},
   "source": [
    "## Conclusions:\n",
    "* The key metric (recall of the minority class: 0.87) and overall accuracy (0.94) were very strong\n",
    "* The company can use the model to correctly identify most of the fraudulent job postings\n",
    "* Precision of the minority class was lower (0.46) but not as relevant to the problem statement\n",
    "* Without more data on the minority class, the model is not likely to improve\n",
    "* If the company wants even higher recall, the company should allocate resources to increased data collection, especially given the imbalanced nature of fraudulent/legitimate job postings"
   ]
  },
  {
   "cell_type": "code",
   "execution_count": null,
   "id": "714991c9",
   "metadata": {},
   "outputs": [],
   "source": []
  }
 ],
 "metadata": {
  "kernelspec": {
   "display_name": "Python 3 (ipykernel)",
   "language": "python",
   "name": "python3"
  },
  "language_info": {
   "codemirror_mode": {
    "name": "ipython",
    "version": 3
   },
   "file_extension": ".py",
   "mimetype": "text/x-python",
   "name": "python",
   "nbconvert_exporter": "python",
   "pygments_lexer": "ipython3",
   "version": "3.9.7"
  }
 },
 "nbformat": 4,
 "nbformat_minor": 5
}
